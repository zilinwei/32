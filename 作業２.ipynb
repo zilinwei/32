{
  "nbformat": 4,
  "nbformat_minor": 0,
  "metadata": {
    "colab": {
      "provenance": []
    },
    "kernelspec": {
      "name": "python3",
      "display_name": "Python 3"
    },
    "language_info": {
      "name": "python"
    }
  },
  "cells": [
    {
      "cell_type": "code",
      "source": [
        "a=str(\" 大道之行也，天  下為公。 選賢與能，講信  修睦。故人不獨親其親，不獨子其子；使老有所終，壯有 所用，幼有 所長，矜寡孤獨廢疾者，皆有所養；男有分 女有歸。貨惡其棄 於地也不必藏於  己；力惡其不  出於身也不必為己。是故 謀閉而不興 ，盜竊亂賊而不作，故外戶而 不閉，是謂「大同」。\")\n",
        "b=a.replace(\" \",\"\")\n",
        "c=len(b)\n",
        "print(\"共有\",c,\"個字\")"
      ],
      "metadata": {
        "colab": {
          "base_uri": "https://localhost:8080/"
        },
        "id": "etjG0OeVo8C2",
        "outputId": "21800eb3-7147-4145-a658-43f917a301cc"
      },
      "execution_count": 1,
      "outputs": [
        {
          "output_type": "stream",
          "name": "stdout",
          "text": [
            "共有 127 個字\n"
          ]
        }
      ]
    },
    {
      "cell_type": "code",
      "source": [
        "c=b.replace('。', '。\\n').replace('；', '；\\n').replace('，', '，\\n')\n",
        "d=c.replace('。', '。\\b').replace('；', '；\\b').replace('，', '，\\b')\n",
        "print(d)"
      ],
      "metadata": {
        "colab": {
          "base_uri": "https://localhost:8080/"
        },
        "id": "74I0Tvx7ZmZN",
        "outputId": "24552636-21ee-401c-9d80-e10b31ba874e"
      },
      "execution_count": 2,
      "outputs": [
        {
          "output_type": "stream",
          "name": "stdout",
          "text": [
            "大道之行也，\b\n",
            "天下為公。\b\n",
            "選賢與能，\b\n",
            "講信修睦。\b\n",
            "故人不獨親其親，\b\n",
            "不獨子其子；\b\n",
            "使老有所終，\b\n",
            "壯有所用，\b\n",
            "幼有所長，\b\n",
            "矜寡孤獨廢疾者，\b\n",
            "皆有所養；\b\n",
            "男有分女有歸。\b\n",
            "貨惡其棄於地也不必藏於己；\b\n",
            "力惡其不出於身也不必為己。\b\n",
            "是故謀閉而不興，\b\n",
            "盜竊亂賊而不作，\b\n",
            "故外戶而不閉，\b\n",
            "是謂「大同」。\b\n",
            "\n"
          ]
        }
      ]
    },
    {
      "cell_type": "code",
      "source": [
        "S=(b.count('不'))\n",
        "print(\"(不)共有\",S,\"個字\")"
      ],
      "metadata": {
        "colab": {
          "base_uri": "https://localhost:8080/"
        },
        "id": "t_uSze8AZo_j",
        "outputId": "18dbf085-9a47-4203-c53c-f53ed7279f64"
      },
      "execution_count": 3,
      "outputs": [
        {
          "output_type": "stream",
          "name": "stdout",
          "text": [
            "(不)共有 8 個字\n"
          ]
        }
      ]
    }
  ]
}