{
  "nbformat": 4,
  "nbformat_minor": 0,
  "metadata": {
    "colab": {
      "provenance": [],
      "authorship_tag": "ABX9TyOlVHQshBcuBHxwSQoMuFk5",
      "include_colab_link": true
    },
    "kernelspec": {
      "name": "python3",
      "display_name": "Python 3"
    },
    "language_info": {
      "name": "python"
    }
  },
  "cells": [
    {
      "cell_type": "markdown",
      "metadata": {
        "id": "view-in-github",
        "colab_type": "text"
      },
      "source": [
        "<a href=\"https://colab.research.google.com/github/zilinwei/32/blob/main/%E4%BD%9C%E6%A5%AD4.ipynb\" target=\"_parent\"><img src=\"https://colab.research.google.com/assets/colab-badge.svg\" alt=\"Open In Colab\"/></a>"
      ]
    },
    {
      "cell_type": "code",
      "execution_count": 1,
      "metadata": {
        "colab": {
          "base_uri": "https://localhost:8080/"
        },
        "id": "lnF6meoyoK4z",
        "outputId": "234a9dc3-603d-4f0d-e5b9-121ff16d2215"
      },
      "outputs": [
        {
          "output_type": "stream",
          "name": "stdout",
          "text": [
            "Mounted at /content/drive\n"
          ]
        }
      ],
      "source": [
        "from google.colab import drive\n",
        "drive.mount('/content/drive')"
      ]
    },
    {
      "cell_type": "code",
      "source": [
        "import pandas as pd\n",
        "import matplotlib.pyplot as plt\n",
        "df = pd.read_csv('/content/drive/MyDrive/population.csv')\n",
        "with pd.ExcelWriter('population.xlsx') as writer:\n",
        "    df.to_excel(writer, sheet_name='population')\n",
        "\n",
        "\n",
        "\n",
        "plt.plot(df['pop'], df['year'])\n",
        "plt.xlabel('pop')\n",
        "plt.ylabel('year')\n",
        "plt.title('LINE TREND CHART')\n",
        "plt.show()\n",
        "\n",
        "plt.pie(df['pop'], labels=df['year'], autopct='%1.1f%%')\n",
        "plt.title('PIE CHART')\n",
        "plt.show()"
      ],
      "metadata": {
        "id": "RusgZYsroZrt"
      },
      "execution_count": null,
      "outputs": []
    }
  ]
}