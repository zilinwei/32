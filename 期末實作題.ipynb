{
  "nbformat": 4,
  "nbformat_minor": 0,
  "metadata": {
    "colab": {
      "provenance": [],
      "authorship_tag": "ABX9TyP7C9IfLUXTqDbbcwjOnSy1",
      "include_colab_link": true
    },
    "kernelspec": {
      "name": "python3",
      "display_name": "Python 3"
    },
    "language_info": {
      "name": "python"
    }
  },
  "cells": [
    {
      "cell_type": "markdown",
      "metadata": {
        "id": "view-in-github",
        "colab_type": "text"
      },
      "source": [
        "<a href=\"https://colab.research.google.com/github/zilinwei/32/blob/main/%E6%9C%9F%E6%9C%AB%E5%AF%A6%E4%BD%9C%E9%A1%8C.ipynb\" target=\"_parent\"><img src=\"https://colab.research.google.com/assets/colab-badge.svg\" alt=\"Open In Colab\"/></a>"
      ]
    },
    {
      "cell_type": "code",
      "source": [
        "import math\n",
        "\n",
        "class City:\n",
        "    def __init__(self, name, coordinates, accommodation_cost):\n",
        "        self.name = name\n",
        "        self.coordinates = coordinates\n",
        "        self.accommodation_cost = accommodation_cost\n",
        "\n",
        "def calculate_discounted_cost(previous_city, current_city):\n",
        "    if previous_city is None:\n",
        "        return current_city.accommodation_cost\n",
        "    elif previous_city.name in ['C', 'G'] and current_city.name == 'A':\n",
        "        return 0.8 * current_city.accommodation_cost\n",
        "    elif previous_city.name in ['D', 'E'] and current_city.name == 'B':\n",
        "        return 0.8 * current_city.accommodation_cost\n",
        "    elif previous_city.name in ['A', 'C'] and current_city.name == 'F':\n",
        "        return 0.8 * current_city.accommodation_cost\n",
        "    elif previous_city.name in ['E', 'F'] and current_city.name == 'G':\n",
        "        return 0.8 * current_city.accommodation_cost\n",
        "    else:\n",
        "        return current_city.accommodation_cost\n",
        "\n",
        "def calculate_distance(city1, city2):\n",
        "    x1, y1 = city1.coordinates\n",
        "    x2, y2 = city2.coordinates\n",
        "    return math.sqrt((x2 - x1) ** 2 + (y2 - y1) ** 2)\n",
        "\n",
        "def find_cheapest_route(cities):\n",
        "    min_cost = float('inf')\n",
        "    best_route = None\n",
        "\n",
        "    for start_city in cities:\n",
        "        current_route = [start_city]\n",
        "        remaining_cities = cities.copy()\n",
        "        remaining_cities.remove(start_city)\n",
        "\n",
        "        total_cost = 0\n",
        "        previous_city = start_city\n",
        "\n",
        "        while remaining_cities:\n",
        "            min_distance = float('inf')\n",
        "            nearest_city = None\n",
        "\n",
        "            for city in remaining_cities:\n",
        "                distance = calculate_distance(previous_city, city)\n",
        "                if distance < min_distance:\n",
        "                    min_distance = distance\n",
        "                    nearest_city = city\n",
        "\n",
        "            remaining_cities.remove(nearest_city)\n",
        "            current_route.append(nearest_city)\n",
        "            total_cost += min_distance * 100 + calculate_discounted_cost(previous_city, nearest_city)\n",
        "            previous_city = nearest_city\n",
        "\n",
        "        if total_cost < min_cost:\n",
        "            min_cost = total_cost\n",
        "            best_route = current_route\n",
        "\n",
        "    return best_route, min_cost\n",
        "\n",
        "# 建立城市物件\n",
        "A = City('A', (0, 0), 2000)\n",
        "B = City('B', (0, 120), 2400)\n",
        "C = City('C', (30, 100), 2400)\n",
        "D = City('D', (80, 0), 1600)\n",
        "E = City('E', (45, 10), 1500)\n",
        "F = City('F', (90, 160), 2200)\n",
        "G = City('G', (120, 200), 1200)\n",
        "\n",
        "cities = [A, B, C, D, E, F, G]\n",
        "\n",
        "# 找出最便宜的旅遊方案\n",
        "best_route, min_cost = find_cheapest_route(cities)\n",
        "# 列印結果\n",
        "print(\"最便宜的旅遊方案：\")\n",
        "for city in best_route:\n",
        "    print(city.name, end=' -> ')\n",
        "print(\"總花費：\", min_cost)"
      ],
      "metadata": {
        "colab": {
          "base_uri": "https://localhost:8080/"
        },
        "id": "odfh6cMziaZ7",
        "outputId": "e64ad767-97ec-4ed2-dfe1-2373ac84bb94"
      },
      "execution_count": 3,
      "outputs": [
        {
          "output_type": "stream",
          "name": "stdout",
          "text": [
            "最便宜的旅遊方案：\n",
            "D -> E -> A -> C -> B -> F -> G -> 總花費： 48604.54275945734\n"
          ]
        }
      ]
    }
  ]
}